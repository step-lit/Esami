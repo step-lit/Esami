{
 "cells": [
  {
   "cell_type": "markdown",
   "metadata": {},
   "source": [
    "# Algoritmo A* per mappa Romania\n",
    "Versione Graph Search dell'algoritmo "
   ]
  },
  {
   "cell_type": "markdown",
   "metadata": {},
   "source": [
    "## Grafo degli Stati"
   ]
  },
  {
   "cell_type": "code",
   "execution_count": 1,
   "metadata": {},
   "outputs": [],
   "source": [
    "# connessioni tra città adiacenti con relative distanze\n",
    "\n",
    "connections = {}\n",
    "\n",
    "connections['Arad'] = [['Sibiu', 140], ['Timisoara', 118], ['Zerind',  75]]\n",
    "connections['Bucarest'] = [['Fagaras', 211], ['Giurgiu', 90], ['Pitesti', 101], ['Urziceni', 85]]\n",
    "connections['Craiova'] = [['Drobeta', 120], ['Pitesti', 138], ['Rimnicu Vilcea', 146]]\n",
    "connections['Drobeta'] = [['Craiova', 120], ['Mehadia', 75]]\n",
    "connections['Eforie'] = [['Hirsova', 86]]\n",
    "connections['Fagaras'] = [['Bucarest', 211], ['Sibiu', 99]]\n",
    "connections['Giurgiu'] = [['Bucarest', 90]]\n",
    "connections['Hirsova'] = [['Eforie', 86], ['Urziceni', 98]]\n",
    "connections['Iasi'] = [['Neamt', 87], ['Vaslui', 92]]\n",
    "connections['Lugoj'] = [['Mehadia', 70], ['Timisoara', 111]]\n",
    "connections['Mehadia'] = [['Drobeta', 75], ['Lugoj', 70]]\n",
    "connections['Neamt'] = [['Iasi', 87]]\n",
    "connections['Oradea'] = [['Sibiu', 151], ['Zerind', 71]]\n",
    "connections['Pitesti'] = [['Bucarest', 101], ['Craiova', 138], ['Rimnicu Vilcea', 97]]\n",
    "connections['Rimnicu Vilcea'] = [['Craiova', 146], ['Pitesti', 97], ['Sibiu', 80]]\n",
    "connections['Sibiu'] = [['Arad', 140], ['Fagaras', 99], ['Oradea', 151], ['Rimnicu Vilcea', 80]]\n",
    "connections['Timisoara'] = [['Arad', 118], ['Lugoj', 111]]\n",
    "connections['Urziceni'] = [['Bucarest', 85], ['Hirsova', 98], ['Vaslui', 142]]\n",
    "connections['Vaslui'] = [['Iasi', 92], ['Urziceni', 142]]\n",
    "connections['Zerind'] = [['Arad', 75], ['Oradea', 71]]"
   ]
  },
  {
   "cell_type": "markdown",
   "metadata": {},
   "source": [
    "## Funzione euristica h"
   ]
  },
  {
   "cell_type": "code",
   "execution_count": 2,
   "metadata": {},
   "outputs": [],
   "source": [
    "# distanza in linea d'aria tra ogni città e l'obiettivo 'Bucarest'\n",
    "\n",
    "h = {}\n",
    "\n",
    "h['Arad'] = 366\n",
    "h['Bucarest'] = 0\n",
    "h['Craiova'] = 160\n",
    "h['Drobeta'] = 242\n",
    "h['Eforie'] = 161\n",
    "h['Fagaras'] = 176\n",
    "h['Giurgiu'] = 77\n",
    "h['Hirsova'] = 151\n",
    "h['Iasi'] = 226\n",
    "h['Lugoj'] = 244\n",
    "h['Mehadia'] = 241\n",
    "h['Neamt'] = 234\n",
    "h['Oradea'] = 380\n",
    "h['Pitesti'] = 100\n",
    "h['Rimnicu Vilcea'] = 193\n",
    "h['Sibiu'] = 253\n",
    "h['Timisoara'] = 329\n",
    "h['Urziceni'] = 80\n",
    "h['Vaslui'] = 199\n",
    "h['Zerind'] = 374"
   ]
  },
  {
   "cell_type": "markdown",
   "metadata": {},
   "source": [
    "### Classe Node"
   ]
  },
  {
   "cell_type": "code",
   "execution_count": 3,
   "metadata": {},
   "outputs": [],
   "source": [
    "class Node:\n",
    "    \n",
    "    def __init__(self, state, parent, f, partial_path):\n",
    "      \n",
    "        self.state = state\n",
    "        self.depth = 0\n",
    "        self.children = []\n",
    "        self.parent = parent\n",
    "        self.heuristic = f\n",
    "        self.partial_path = partial_path\n",
    "        \n",
    "        \n",
    "    def addChild(self, childNode):\n",
    "        \"\"\"\n",
    "        Questo metodo aggiunge un nodo sotto un altro nodo\n",
    "        \"\"\"\n",
    "        self.children.append(childNode)\n",
    "        childNode.parent = self\n",
    "        childNode.depth = self.depth + 1\n",
    "        \n",
    "    \n",
    "    def printPath(self):\n",
    "        \"\"\"\n",
    "        Questo metodo stampa il percorso trovato \n",
    "        dallo stato iniziale all'obiettivo\n",
    "        \"\"\"\n",
    "        if self.parent != None:\n",
    "            self.parent.printPath()\n",
    "        print(\"-> \", self.state.name)"
   ]
  },
  {
   "cell_type": "markdown",
   "metadata": {},
   "source": [
    "### Classe State"
   ]
  },
  {
   "cell_type": "code",
   "execution_count": 4,
   "metadata": {},
   "outputs": [],
   "source": [
    "class State:\n",
    "    def __init__(self, name = None):\n",
    "        if name == None:\n",
    "            self.name = self.getInitialState()   # crea lo stato iniziale\n",
    "        else:\n",
    "            self.name = name\n",
    "            \n",
    "    def getInitialState(self):\n",
    "        initialState = 'Arad'\n",
    "        return initialState\n",
    "    \n",
    "    def successorFunction(self):\n",
    "        return connections[self.name]\n",
    "    \n",
    "    def checkGoalState(self):\n",
    "        return self.name == 'Bucarest'"
   ]
  },
  {
   "cell_type": "markdown",
   "metadata": {},
   "source": [
    "## Classe Elem (per gli elementi della fringe)"
   ]
  },
  {
   "cell_type": "code",
   "execution_count": 5,
   "metadata": {},
   "outputs": [],
   "source": [
    "class Elem:\n",
    "    val = None\n",
    "    node = None\n",
    "    next = None\n",
    "    \n",
    "    def __init__(self, val, nodo):\n",
    "        self.val = val\n",
    "        self.node = nodo\n",
    "        self.next = None\n",
    "       "
   ]
  },
  {
   "cell_type": "markdown",
   "metadata": {},
   "source": [
    "## Classe Fringe (frontiera)"
   ]
  },
  {
   "cell_type": "code",
   "execution_count": 6,
   "metadata": {},
   "outputs": [],
   "source": [
    "class Fringe:\n",
    "#    __head = None\n",
    "#    __tail = None\n",
    "    \n",
    "    def __init__(self):\n",
    "        self.__head = None\n",
    "        self.__tail = None\n",
    "        \n",
    "    def add(self, newNode):\n",
    "        p = self.__head\n",
    "        if (self.__head == None):              # se la lista è vuota ...\n",
    "            self.__head = newNode              # ... inserisci l'elemento\n",
    "            self.__tail = self.__head\n",
    "            newNode.next = None\n",
    "\n",
    "        elif (newNode.val > self.__tail.val):  # se il valore è maggiore dell'ultimo ...\n",
    "            self.__tail.next = newNode         # ... fai l'append dell'elemento\n",
    "            self.__tail = newNode\n",
    "            newNode.next = None\n",
    "            \n",
    "        elif newNode.val < self.__head.val:    # se è minore del primo ...\n",
    "            newNode.next = self.__head         # inserisci in testa \n",
    "            self.__head = newNode\n",
    "            \n",
    "        else:\n",
    "            while(p.next != None and (newNode.val > p.next.val)):\n",
    "                p = p.next\n",
    "            newNode.next = p.next\n",
    "            p.next = newNode\n",
    "        \n",
    "    def estrazione(self):\n",
    "        p = self.__head\n",
    "        if p == None:\n",
    "            return None\n",
    "        self.__head = self.__head.next\n",
    "        p.next = None\n",
    "        return p\n",
    "            \n",
    "    def empty_fringe(self):\n",
    "        if self.__head == None:\n",
    "            return True\n",
    "        else:\n",
    "            return False\n",
    "        \n",
    "    def stampa(self):\n",
    "        print('Head', end = ' ')\n",
    "        p = self.__head\n",
    "        while p!= None:\n",
    "            print(p.node.state.name, '->', end=' ')\n",
    "            p = p.next\n",
    "        print('Tail')"
   ]
  },
  {
   "cell_type": "markdown",
   "metadata": {},
   "source": [
    "## Algoritmo "
   ]
  },
  {
   "cell_type": "code",
   "execution_count": 7,
   "metadata": {},
   "outputs": [],
   "source": [
    "def A_Star():\n",
    "    \n",
    "    # crea la frontiera (priority queue)\n",
    "    fringe = Fringe()\n",
    "     \n",
    "    # crea la lista dei nodi visitati\n",
    "    close = []\n",
    "    \n",
    "    # crea il root node\n",
    "    initialState = State()   \n",
    "    euristica = h[initialState.name]\n",
    "    root = Node(initialState, None, euristica, 0)  # il nodo padre di root è None\n",
    "        \n",
    "    # inserisci root nella frontiera\n",
    "    elemento = Elem(euristica, root)\n",
    "    fringe.add(elemento)\n",
    "    \n",
    "    # esegui se la frontiera non è vuota\n",
    "    while not fringe.empty_fringe():                   # se la fringe non è vuota ...\n",
    "        \n",
    "        elem_estratto = fringe.estrazione()            # estrazione dell'elemento in testa alla fringe\n",
    "        currentNode = elem_estratto.node               # nodo estratto\n",
    "        \n",
    "        print(\"-- dequeue --\", currentNode.state.name)\n",
    "        \n",
    "        # verifica se questo è lo stato obiettivo\n",
    "        if currentNode.state.checkGoalState():\n",
    "            print(\"Stato obiettivo raggiunto\")\n",
    "            # stampa il percorso trovato\n",
    "            print(\"----------------------\")\n",
    "            print(\"Soluzione:\")\n",
    "            currentNode.printPath()\n",
    "            break \n",
    "            \n",
    "        # verifica se lo stato del nodo estratto sta in close\n",
    "        if currentNode.state.name not in close:\n",
    "            \n",
    "            # aggiungiamo lo stato di questo nodo alla lista degli stati visitati\n",
    "            close.append(currentNode.state.name)\n",
    "              \n",
    "            # ottieni i nodi figli del nodo estratto dalla frontiera\n",
    "            childStates = currentNode.state.successorFunction()\n",
    "        \n",
    "            for (childState, distance) in childStates:\n",
    "                g = currentNode.partial_path + distance\n",
    "                euristica = h[childState]\n",
    "                f = g + euristica \n",
    "                childNode = Node(State(childState), currentNode, f, g) \n",
    "             \n",
    "                # verifica se lo stato del nodo figlio sta in close\n",
    "                if childNode.state.name not in close:\n",
    "           \n",
    "                    # aggiungi il nodo figlio alla fringe\n",
    "                    elemento = Elem(childNode.heuristic, childNode)\n",
    "                    fringe.add(elemento) \n",
    "#        fringe.stampa()"
   ]
  },
  {
   "cell_type": "code",
   "execution_count": 8,
   "metadata": {},
   "outputs": [
    {
     "name": "stdout",
     "output_type": "stream",
     "text": [
      "-- dequeue -- Arad\n",
      "-- dequeue -- Sibiu\n",
      "-- dequeue -- Rimnicu Vilcea\n",
      "-- dequeue -- Fagaras\n",
      "-- dequeue -- Pitesti\n",
      "-- dequeue -- Bucarest\n",
      "Stato obiettivo raggiunto\n",
      "----------------------\n",
      "Soluzione:\n",
      "->  Arad\n",
      "->  Sibiu\n",
      "->  Rimnicu Vilcea\n",
      "->  Pitesti\n",
      "->  Bucarest\n"
     ]
    }
   ],
   "source": [
    "A_Star()"
   ]
  },
  {
   "cell_type": "code",
   "execution_count": null,
   "metadata": {},
   "outputs": [],
   "source": []
  }
 ],
 "metadata": {
  "kernelspec": {
   "display_name": "Python 3 (ipykernel)",
   "language": "python",
   "name": "python3"
  },
  "language_info": {
   "codemirror_mode": {
    "name": "ipython",
    "version": 3
   },
   "file_extension": ".py",
   "mimetype": "text/x-python",
   "name": "python",
   "nbconvert_exporter": "python",
   "pygments_lexer": "ipython3",
   "version": "3.7.7"
  }
 },
 "nbformat": 4,
 "nbformat_minor": 2
}
