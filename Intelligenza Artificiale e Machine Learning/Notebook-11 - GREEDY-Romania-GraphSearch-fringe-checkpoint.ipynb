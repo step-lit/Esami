{
 "cells": [
  {
   "cell_type": "markdown",
   "metadata": {},
   "source": [
    "# Greedy Best-First Algorithm \n",
    "Versione Graph Search per la mappa della Romania"
   ]
  },
  {
   "cell_type": "markdown",
   "metadata": {},
   "source": [
    "## Grafo degli Stati"
   ]
  },
  {
   "cell_type": "code",
   "execution_count": 1,
   "metadata": {},
   "outputs": [],
   "source": [
    "# connessioni tra città\n",
    "\n",
    "connections = {}\n",
    "connections['Arad'] = {'Sibiu', 'Timisoara', 'Zerind'}\n",
    "connections['Bucarest'] = {'Fagaras', 'Giurgiu', 'Pitesti', 'Urziceni'}\n",
    "connections['Craiova'] = {'Drobeta', 'Pitesti', 'Rimnicu Vilcea'}\n",
    "connections['Drobeta'] = {'Craiova', 'Mehadia'}\n",
    "connections['Eforie'] = {'Hirsova'}\n",
    "connections['Fagaras'] = {'Bucarest', 'Sibiu'}\n",
    "connections['Giurgiu'] = {'Bucarest'}\n",
    "connections['Hirsova'] = {'Eforie', 'Urziceni'}\n",
    "connections['Iasi'] = {'Neamt', 'Vaslui'}\n",
    "connections['Lugoj'] = {'Mehadia', 'Timisoara'}\n",
    "connections['Mehadia'] = {'Drobeta', 'Lugoj'}\n",
    "connections['Neamt'] = {'Iasi'}\n",
    "connections['Oradea'] = {'Sibiu', 'Zerind'}\n",
    "connections['Pitesti'] = {'Bucarest', 'Craiova', 'Rimnicu Vilcea'}\n",
    "connections['Rimnicu Vilcea'] = {'Craiova', 'Pitesti', 'Sibiu'}\n",
    "connections['Sibiu'] = {'Arad', 'Fagaras', 'Oradea', 'Rimnicu Vilcea'}\n",
    "connections['Timisoara'] = {'Arad', 'Lugoj'}\n",
    "connections['Urziceni'] = {'Bucarest', 'Hirsova', 'Vaslui'}\n",
    "connections['Vaslui'] = {'Iasi', 'Urziceni'}\n",
    "connections['Zerind'] = {'Arad', 'Oradea'}"
   ]
  },
  {
   "cell_type": "markdown",
   "metadata": {},
   "source": [
    "## Funzione euristica h"
   ]
  },
  {
   "cell_type": "code",
   "execution_count": 2,
   "metadata": {},
   "outputs": [],
   "source": [
    "# distanza in linea d'aria tra ogni città e l'obiettivo 'Bucarest'\n",
    "\n",
    "h = {}\n",
    "h['Arad'] = 366\n",
    "h['Bucarest'] = 0\n",
    "h['Craiova'] = 160\n",
    "h['Drobeta'] = 242\n",
    "h['Eforie'] = 161\n",
    "h['Fagaras'] = 176\n",
    "h['Giurgiu'] = 77\n",
    "h['Hirsova'] = 151\n",
    "h['Iasi'] = 226\n",
    "h['Lugoj'] = 244\n",
    "h['Mehadia'] = 241\n",
    "h['Neamt'] = 234\n",
    "h['Oradea'] = 380\n",
    "h['Pitesti'] = 100\n",
    "h['Rimnicu Vilcea'] = 193\n",
    "h['Sibiu'] = 253\n",
    "h['Timisoara'] = 329\n",
    "h['Urziceni'] = 80\n",
    "h['Vaslui'] = 199\n",
    "h['Zerind'] = 374"
   ]
  },
  {
   "cell_type": "markdown",
   "metadata": {},
   "source": [
    "## Classe Node (per i nodi dell'albero di ricerca)"
   ]
  },
  {
   "cell_type": "code",
   "execution_count": 3,
   "metadata": {},
   "outputs": [],
   "source": [
    "class Node:\n",
    "    \n",
    "    def __init__(self, state, parent, h):\n",
    "        \"\"\"\n",
    "        Construttore\n",
    "        \"\"\"\n",
    "        self.state = state\n",
    "        self.depth = 0\n",
    "        self.children = []\n",
    "        self.parent = parent\n",
    "        self.heuristic = h\n",
    "        \n",
    "        \n",
    "    def addChild(self, childNode):\n",
    "        \"\"\"\n",
    "        Questo metodo aggiunge un nodo sotto un altro nodo\n",
    "        \"\"\"\n",
    "        self.children.append(childNode)\n",
    "        childNode.parent = self\n",
    "        childNode.depth = self.depth + 1\n",
    "        \n",
    "    \n",
    "    def printPath(self):\n",
    "        \"\"\"\n",
    "        Questo metodo stampa il percorso dallo stato iniziale \n",
    "        allo stato del nodo corrente\n",
    "        \"\"\"\n",
    "        if self.parent != None:\n",
    "            self.parent.printPath()\n",
    "        print(\"-> \", self.state.name)"
   ]
  },
  {
   "cell_type": "markdown",
   "metadata": {},
   "source": [
    "## Classe State (per gli stati dello spazio degli stati)"
   ]
  },
  {
   "cell_type": "code",
   "execution_count": 4,
   "metadata": {},
   "outputs": [],
   "source": [
    "class State:\n",
    "    \n",
    "    def __init__(self, name = None):\n",
    "        if name == None:\n",
    "            self.name = self.getInitialState()   # crea lo stato iniziale\n",
    "        else:\n",
    "            self.name = name\n",
    "            \n",
    "    def getInitialState(state):\n",
    "        initialState = 'Arad'\n",
    "        return initialState\n",
    "    \n",
    "    def successorFunction(self):\n",
    "        return connections[self.name]\n",
    "    \n",
    "    def checkGoalState(self):\n",
    "        return self.name == 'Bucarest'"
   ]
  },
  {
   "cell_type": "markdown",
   "metadata": {},
   "source": [
    "## Classe Elem (per gli elementi della fringe)"
   ]
  },
  {
   "cell_type": "code",
   "execution_count": 5,
   "metadata": {},
   "outputs": [],
   "source": [
    "class Elem:\n",
    "    val = None\n",
    "    node = None\n",
    "    next = None\n",
    "    \n",
    "    def __init__(self, val, nodo):\n",
    "        self.val = val\n",
    "        self.node = nodo\n",
    "        self.next = None\n",
    "       "
   ]
  },
  {
   "cell_type": "markdown",
   "metadata": {},
   "source": [
    "## Classe  Fringe (frontiera)"
   ]
  },
  {
   "cell_type": "code",
   "execution_count": 6,
   "metadata": {},
   "outputs": [],
   "source": [
    "class Fringe:\n",
    "#    __head = None\n",
    "#    __tail = None\n",
    "    \n",
    "    def __init__(self):\n",
    "        self.__head = None\n",
    "        self.__tail = None\n",
    "        \n",
    "    def add(self, newNode):\n",
    "        p = self.__head\n",
    "        if (self.__head == None):              # se la lista è vuota ...\n",
    "            self.__head = newNode              # inserisci l'elemento\n",
    "            self.__tail = self.__head\n",
    "            newNode.next = None\n",
    "\n",
    "        elif (newNode.val > self.__tail.val):  # se il valore è maggiore dell'ultimo ...\n",
    "            self.__tail.next = newNode         # fai una append\n",
    "            self.__tail = newNode\n",
    "            newNode.next = None\n",
    "            \n",
    "        elif (newNode.val < self.__head.val):   # se è minore del primo ...\n",
    "            newNode.next = self.__head          # inserisci in testa\n",
    "            self.__head = newNode\n",
    "            \n",
    "        else:\n",
    "            while(p.next != None and (newNode.val > p.next.val)): # scandisci la lista \n",
    "                p = p.next                                        # fino al punto di inserimento\n",
    "            newNode.next = p.next\n",
    "            p.next = newNode  \n",
    "                \n",
    "    def estrazione(self):\n",
    "        p = self.__head\n",
    "        if p == None:\n",
    "            return None\n",
    "        self.__head = self.__head.next\n",
    "        p.next = None\n",
    "        return p\n",
    "            \n",
    "    def empty_fringe(self):\n",
    "        if self.__head == None:\n",
    "            return True\n",
    "        else:\n",
    "            return False\n",
    "        \n",
    "    def stampa(self):\n",
    "        print('Head', end = ' ')\n",
    "        p = self.__head\n",
    "        while p!= None:\n",
    "            print(p.node.state.name, '->', end=' ')\n",
    "            p = p.next\n",
    "        print('Tail')\n",
    "        "
   ]
  },
  {
   "cell_type": "markdown",
   "metadata": {},
   "source": [
    "## Algoritmo Greedy"
   ]
  },
  {
   "cell_type": "code",
   "execution_count": 7,
   "metadata": {},
   "outputs": [],
   "source": [
    "def Greedy_Best_First():\n",
    "\n",
    "    # crea la frontiera\n",
    "    fringe = Fringe()\n",
    "        \n",
    "    # crea la visited list\n",
    "    close = []\n",
    "    \n",
    "    # crea lo stato iniziale\n",
    "    initialState = State()\n",
    "    \n",
    "    # crea la radice\n",
    "    euristica = h[initialState.name]   \n",
    "    root = Node(initialState, None, euristica)         # il nodo padre della radice è None\n",
    "       \n",
    "    # aggiungi la radice alla fringe\n",
    "    elemento = Elem(euristica, root)\n",
    "    fringe.add(elemento)\n",
    "    \n",
    "    while not fringe.empty_fringe():                    # se la fringe non è vuota ...\n",
    "\n",
    "        elem_estratto = fringe.estrazione()             # estrai l'elemento in testa\n",
    "        currentNode = elem_estratto.node                # ottieni il nodo estratto\n",
    "        \n",
    "        print(\"-- dequeue --\", currentNode.state.name)\n",
    "        \n",
    "        if currentNode.state.checkGoalState():           # se lo stato del nodo estratto è lo stato obiettivo ...\n",
    "            print(\"Stato obiettivo raggiunto\")          \n",
    "            print(\"----------------------\")\n",
    "            print(\"Soluzione:\")\n",
    "            currentNode.printPath()                      # stampa il percorso trovato e termina l'elaborazione\n",
    "            break\n",
    "            \n",
    "        else:\n",
    "            close.append(currentNode.state.name)         # altrimenti inserisci lo stato del nodo in close\n",
    "                    \n",
    "        # espandi il nodo estratto per ottenere i suoi nodi figli \n",
    "        childStates = currentNode.state.successorFunction()\n",
    "        for childState in childStates:\n",
    "            euristica = h[State(childState).name]\n",
    "            childNode = Node(State(childState), currentNode, euristica)  \n",
    "            \n",
    "            # verifica se il nodo figlio non è in close\n",
    "            if childNode.state.name not in close:\n",
    "                \n",
    "                # aggiungi il nodo figlio alla lista dei figli del nodo corrente\n",
    "                currentNode.addChild(childNode)\n",
    "                \n",
    "                # aggiungi il nodo figlio alla fringe\n",
    "                elemento = Elem(childNode.heuristic, childNode)\n",
    "                fringe.add(elemento)"
   ]
  },
  {
   "cell_type": "code",
   "execution_count": 8,
   "metadata": {},
   "outputs": [
    {
     "name": "stdout",
     "output_type": "stream",
     "text": [
      "-- dequeue -- Arad\n",
      "-- dequeue -- Sibiu\n",
      "-- dequeue -- Fagaras\n",
      "-- dequeue -- Bucarest\n",
      "Stato obiettivo raggiunto\n",
      "----------------------\n",
      "Soluzione:\n",
      "->  Arad\n",
      "->  Sibiu\n",
      "->  Fagaras\n",
      "->  Bucarest\n"
     ]
    }
   ],
   "source": [
    "Greedy_Best_First()"
   ]
  },
  {
   "cell_type": "code",
   "execution_count": null,
   "metadata": {},
   "outputs": [],
   "source": []
  }
 ],
 "metadata": {
  "kernelspec": {
   "display_name": "Python 3 (ipykernel)",
   "language": "python",
   "name": "python3"
  },
  "language_info": {
   "codemirror_mode": {
    "name": "ipython",
    "version": 3
   },
   "file_extension": ".py",
   "mimetype": "text/x-python",
   "name": "python",
   "nbconvert_exporter": "python",
   "pygments_lexer": "ipython3",
   "version": "3.7.7"
  }
 },
 "nbformat": 4,
 "nbformat_minor": 2
}
