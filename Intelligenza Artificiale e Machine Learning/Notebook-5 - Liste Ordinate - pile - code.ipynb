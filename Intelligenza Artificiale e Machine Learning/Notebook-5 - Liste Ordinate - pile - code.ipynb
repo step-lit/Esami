{
 "cells": [
  {
   "cell_type": "markdown",
   "metadata": {},
   "source": [
    "# Liste Ordinate,  Pile e Code in Python"
   ]
  },
  {
   "cell_type": "markdown",
   "metadata": {},
   "source": [
    "# Sorted Link"
   ]
  },
  {
   "cell_type": "code",
   "execution_count": 1,
   "metadata": {},
   "outputs": [],
   "source": [
    "class Node:\n",
    "    data = None\n",
    "    next = None\n",
    "    \n",
    "    def __init__(self, data):\n",
    "        self.data = data\n",
    "       "
   ]
  },
  {
   "cell_type": "code",
   "execution_count": 2,
   "metadata": {},
   "outputs": [],
   "source": [
    "class SortedLink:\n",
    "#    __head = None\n",
    "#    __tail = None\n",
    "    \n",
    "    def __init__(self):\n",
    "        self.__head = None\n",
    "        self.__tail = None\n",
    "        \n",
    "    def add(self, newNode):\n",
    "        p = self.__head\n",
    "        if (self.__head == None):                 # se la lista è vuota ...\n",
    "            self.__head = newNode                 # inserisci l'elemento\n",
    "            self.__tail = self.__head\n",
    "            newNode.next = None\n",
    "\n",
    "        elif (newNode.data > self.__tail.data):   # se il valore è maggiore dell'ultimo ...\n",
    "            self.__tail.next = newNode            # fai una append\n",
    "            self.__tail = newNode\n",
    "            newNode.next = None\n",
    "            \n",
    "        elif (newNode.data < self.__head.data):   # se è minore del primo ...\n",
    "            newNode.next = self.__head            # inserisci in testa\n",
    "            self.__head = newNode\n",
    "            \n",
    "        else:\n",
    "            while(p.next != None and (newNode.data > p.next.data)):  # scandisci la lista \n",
    "                p = p.next                                           # fino al punto di inserimento\n",
    "            newNode.next = p.next\n",
    "            p.next = newNode  \n",
    "    \n",
    "                \n",
    "    def estrazione_testa(self):\n",
    "        p = self.__head\n",
    "        if p == None:\n",
    "            return None\n",
    "        self.__head = self.__head.next\n",
    "        p.next = None\n",
    "        return p   \n",
    "    \n",
    "    \n",
    "    @property\n",
    "    def head(self):\n",
    "        return self.__head\n",
    "                "
   ]
  },
  {
   "cell_type": "code",
   "execution_count": 3,
   "metadata": {},
   "outputs": [],
   "source": [
    "def stampa_lista(node):\n",
    "    p = node\n",
    "    while p != None:\n",
    "        data = p.data\n",
    "        print(data, '->', end = ' ')\n",
    "        p = p.next\n",
    "    print('Fine Lista')"
   ]
  },
  {
   "cell_type": "code",
   "execution_count": 4,
   "metadata": {},
   "outputs": [],
   "source": [
    "sortedLink = SortedLink()"
   ]
  },
  {
   "cell_type": "code",
   "execution_count": 5,
   "metadata": {},
   "outputs": [],
   "source": [
    "sortedLink.add(Node(60))\n",
    "sortedLink.add(Node(50))\n",
    "sortedLink.add(Node(80))\n",
    "sortedLink.add(Node(70))"
   ]
  },
  {
   "cell_type": "code",
   "execution_count": 6,
   "metadata": {},
   "outputs": [
    {
     "name": "stdout",
     "output_type": "stream",
     "text": [
      "50 -> 60 -> 70 -> 80 -> Fine Lista\n"
     ]
    }
   ],
   "source": [
    "stampa_lista(sortedLink.head)"
   ]
  },
  {
   "cell_type": "code",
   "execution_count": 7,
   "metadata": {},
   "outputs": [
    {
     "name": "stdout",
     "output_type": "stream",
     "text": [
      "60 -> 70 -> 80 -> Fine Lista\n"
     ]
    }
   ],
   "source": [
    "sortedLink.estrazione_testa()\n",
    "stampa_lista(sortedLink.head)"
   ]
  },
  {
   "cell_type": "code",
   "execution_count": 8,
   "metadata": {},
   "outputs": [
    {
     "data": {
      "text/plain": [
       "60"
      ]
     },
     "execution_count": 8,
     "metadata": {},
     "output_type": "execute_result"
    }
   ],
   "source": [
    "a = sortedLink.estrazione_testa()\n",
    "a.data"
   ]
  },
  {
   "cell_type": "code",
   "execution_count": 9,
   "metadata": {},
   "outputs": [
    {
     "name": "stdout",
     "output_type": "stream",
     "text": [
      "70 -> 80 -> Fine Lista\n"
     ]
    }
   ],
   "source": [
    "stampa_lista(sortedLink.head)"
   ]
  },
  {
   "cell_type": "code",
   "execution_count": 10,
   "metadata": {},
   "outputs": [
    {
     "name": "stdout",
     "output_type": "stream",
     "text": [
      "60 -> 70 -> 80 -> Fine Lista\n"
     ]
    }
   ],
   "source": [
    "sortedLink.add(Node(60))\n",
    "stampa_lista(sortedLink.head)"
   ]
  },
  {
   "cell_type": "code",
   "execution_count": 11,
   "metadata": {},
   "outputs": [
    {
     "name": "stdout",
     "output_type": "stream",
     "text": [
      "60 -> 70 -> 75 -> 80 -> Fine Lista\n"
     ]
    }
   ],
   "source": [
    "sortedLink.add(Node(75))\n",
    "stampa_lista(sortedLink.head)"
   ]
  },
  {
   "cell_type": "code",
   "execution_count": 12,
   "metadata": {},
   "outputs": [
    {
     "name": "stdout",
     "output_type": "stream",
     "text": [
      "60 -> 70 -> 75 -> 80 -> 90 -> Fine Lista\n"
     ]
    }
   ],
   "source": [
    "sortedLink.add(Node(90))\n",
    "stampa_lista(sortedLink.head)"
   ]
  },
  {
   "cell_type": "code",
   "execution_count": 13,
   "metadata": {},
   "outputs": [
    {
     "name": "stdout",
     "output_type": "stream",
     "text": [
      "50 -> 60 -> 70 -> 75 -> 80 -> 90 -> Fine Lista\n"
     ]
    }
   ],
   "source": [
    "sortedLink.add(Node(50))\n",
    "stampa_lista(sortedLink.head)"
   ]
  },
  {
   "cell_type": "markdown",
   "metadata": {},
   "source": [
    "# Pile"
   ]
  },
  {
   "cell_type": "code",
   "execution_count": 15,
   "metadata": {},
   "outputs": [],
   "source": [
    "class Node:\n",
    "    data = ''\n",
    "    next = None\n",
    "    \n",
    "    def __init__(self, data):\n",
    "        self.data = data"
   ]
  },
  {
   "cell_type": "code",
   "execution_count": 16,
   "metadata": {},
   "outputs": [],
   "source": [
    "class Stack:\n",
    "    __top = None\n",
    "    __size = 0\n",
    "    \n",
    "    def push(self, element):\n",
    "        if self.__top == None:\n",
    "            self.__top = Node(element)\n",
    "        else:\n",
    "            newNode = Node(element)\n",
    "            newNode.next = self.__top\n",
    "            self.__top = newNode\n",
    "        self.__size += 1\n",
    "                           \n",
    "    def pop(self):       \n",
    "        if self.__top == None:\n",
    "            return None\n",
    "        p = self.__top\n",
    "        self.__top = self.__top.next\n",
    "        p.next = None\n",
    "        self.__size -= 1\n",
    "        return p\n",
    "        \n",
    "    @property\n",
    "    def size(self):\n",
    "        return self.__size      "
   ]
  },
  {
   "cell_type": "code",
   "execution_count": 17,
   "metadata": {},
   "outputs": [],
   "source": [
    "def estrazione_stampa_pila(stack):\n",
    "    print('Top', end = ' ')\n",
    "    node = stack.pop()\n",
    "    while node!= None:\n",
    "        print(node.data, '->', end=' ')\n",
    "        node = stack.pop()\n",
    "    print('End')"
   ]
  },
  {
   "cell_type": "code",
   "execution_count": 18,
   "metadata": {},
   "outputs": [],
   "source": [
    "stack = Stack()"
   ]
  },
  {
   "cell_type": "code",
   "execution_count": 19,
   "metadata": {},
   "outputs": [],
   "source": [
    "stack.push('A')\n",
    "stack.push('B')\n",
    "stack.push('C')\n",
    "stack.push('D')"
   ]
  },
  {
   "cell_type": "code",
   "execution_count": 20,
   "metadata": {},
   "outputs": [
    {
     "data": {
      "text/plain": [
       "4"
      ]
     },
     "execution_count": 20,
     "metadata": {},
     "output_type": "execute_result"
    }
   ],
   "source": [
    "stack.size"
   ]
  },
  {
   "cell_type": "code",
   "execution_count": 21,
   "metadata": {},
   "outputs": [
    {
     "name": "stdout",
     "output_type": "stream",
     "text": [
      "Top D -> C -> B -> A -> End\n"
     ]
    }
   ],
   "source": [
    "estrazione_stampa_pila(stack)"
   ]
  },
  {
   "cell_type": "code",
   "execution_count": 22,
   "metadata": {},
   "outputs": [
    {
     "data": {
      "text/plain": [
       "0"
      ]
     },
     "execution_count": 22,
     "metadata": {},
     "output_type": "execute_result"
    }
   ],
   "source": [
    "stack.size"
   ]
  },
  {
   "cell_type": "code",
   "execution_count": 23,
   "metadata": {},
   "outputs": [],
   "source": [
    "stack.push('A')\n",
    "stack.push('B')\n",
    "stack.push('C')\n",
    "stack.push('D')"
   ]
  },
  {
   "cell_type": "code",
   "execution_count": 24,
   "metadata": {},
   "outputs": [
    {
     "data": {
      "text/plain": [
       "4"
      ]
     },
     "execution_count": 24,
     "metadata": {},
     "output_type": "execute_result"
    }
   ],
   "source": [
    "stack.size"
   ]
  },
  {
   "cell_type": "code",
   "execution_count": 25,
   "metadata": {},
   "outputs": [
    {
     "data": {
      "text/plain": [
       "'D'"
      ]
     },
     "execution_count": 25,
     "metadata": {},
     "output_type": "execute_result"
    }
   ],
   "source": [
    "a = stack.pop()\n",
    "a.data"
   ]
  },
  {
   "cell_type": "markdown",
   "metadata": {},
   "source": [
    "# Code"
   ]
  },
  {
   "cell_type": "code",
   "execution_count": 26,
   "metadata": {},
   "outputs": [],
   "source": [
    "class Node:\n",
    "    data = ''\n",
    "    next = None\n",
    "    \n",
    "    def __init__(self, data):\n",
    "        self.data = data"
   ]
  },
  {
   "cell_type": "code",
   "execution_count": 27,
   "metadata": {},
   "outputs": [],
   "source": [
    "class Queue:\n",
    "    __head = None\n",
    "    __tail = None\n",
    "    __size = 0\n",
    "    \n",
    "    def enqueue(self, element):\n",
    "        newNode = Node(element)\n",
    "        if self.__head == None:            # se coda vuota ...\n",
    "            self.__head = newNode\n",
    "            self.__tail = self.__head\n",
    "        else:                              # altrimenti ...\n",
    "            self.__tail.next = newNode\n",
    "            self.__tail = newNode\n",
    "        self.__size += 1\n",
    "            \n",
    "\n",
    "    def dequeue(self):\n",
    "        p = self.__head\n",
    "        if p == None:\n",
    "            return None\n",
    "        self.__head = self.__head.next\n",
    "        p.next = None\n",
    "        self.__size -= 1\n",
    "        return p\n",
    "    \n",
    "    @property\n",
    "    def size(self):\n",
    "        return self.__size\n",
    "    \n",
    "    @property\n",
    "    def head(self):\n",
    "        return self.__head\n",
    "            "
   ]
  },
  {
   "cell_type": "code",
   "execution_count": 28,
   "metadata": {},
   "outputs": [],
   "source": [
    "def estrazione_stampa_coda(queue):\n",
    "    print('Head', end = ' ')\n",
    "    node = queue.dequeue()\n",
    "    while node!= None:\n",
    "        print(node.data, '->', end=' ')\n",
    "        node = queue.dequeue()\n",
    "    print('Tail')"
   ]
  },
  {
   "cell_type": "code",
   "execution_count": 29,
   "metadata": {},
   "outputs": [],
   "source": [
    "coda = Queue()"
   ]
  },
  {
   "cell_type": "code",
   "execution_count": 30,
   "metadata": {},
   "outputs": [],
   "source": [
    "coda.enqueue('A')\n",
    "coda.enqueue('B')\n",
    "coda.enqueue('C')\n",
    "coda.enqueue('D')"
   ]
  },
  {
   "cell_type": "code",
   "execution_count": 31,
   "metadata": {},
   "outputs": [
    {
     "data": {
      "text/plain": [
       "4"
      ]
     },
     "execution_count": 31,
     "metadata": {},
     "output_type": "execute_result"
    }
   ],
   "source": [
    "coda.size"
   ]
  },
  {
   "cell_type": "code",
   "execution_count": 32,
   "metadata": {},
   "outputs": [
    {
     "name": "stdout",
     "output_type": "stream",
     "text": [
      "Head A -> B -> C -> D -> Tail\n"
     ]
    }
   ],
   "source": [
    "estrazione_stampa_coda(coda)"
   ]
  },
  {
   "cell_type": "code",
   "execution_count": 33,
   "metadata": {},
   "outputs": [
    {
     "data": {
      "text/plain": [
       "0"
      ]
     },
     "execution_count": 33,
     "metadata": {},
     "output_type": "execute_result"
    }
   ],
   "source": [
    "coda.size"
   ]
  },
  {
   "cell_type": "code",
   "execution_count": 34,
   "metadata": {},
   "outputs": [],
   "source": [
    "coda.enqueue('A')\n",
    "coda.enqueue('B')\n",
    "coda.enqueue('C')\n",
    "coda.enqueue('D')"
   ]
  },
  {
   "cell_type": "code",
   "execution_count": 35,
   "metadata": {},
   "outputs": [
    {
     "data": {
      "text/plain": [
       "4"
      ]
     },
     "execution_count": 35,
     "metadata": {},
     "output_type": "execute_result"
    }
   ],
   "source": [
    "coda.size"
   ]
  },
  {
   "cell_type": "code",
   "execution_count": 36,
   "metadata": {},
   "outputs": [],
   "source": [
    "p = coda.dequeue()"
   ]
  },
  {
   "cell_type": "code",
   "execution_count": 37,
   "metadata": {},
   "outputs": [
    {
     "data": {
      "text/plain": [
       "'A'"
      ]
     },
     "execution_count": 37,
     "metadata": {},
     "output_type": "execute_result"
    }
   ],
   "source": [
    "p.data"
   ]
  },
  {
   "cell_type": "code",
   "execution_count": null,
   "metadata": {},
   "outputs": [],
   "source": []
  },
  {
   "cell_type": "code",
   "execution_count": 38,
   "metadata": {},
   "outputs": [
    {
     "name": "stdout",
     "output_type": "stream",
     "text": [
      "Head B -> C -> D -> Tail\n"
     ]
    }
   ],
   "source": [
    "estrazione_stampa_coda(coda)"
   ]
  },
  {
   "cell_type": "code",
   "execution_count": 39,
   "metadata": {},
   "outputs": [],
   "source": [
    "p = coda.dequeue()"
   ]
  },
  {
   "cell_type": "code",
   "execution_count": 40,
   "metadata": {},
   "outputs": [
    {
     "name": "stdout",
     "output_type": "stream",
     "text": [
      "None\n"
     ]
    }
   ],
   "source": [
    "print(p)"
   ]
  },
  {
   "cell_type": "code",
   "execution_count": 41,
   "metadata": {},
   "outputs": [],
   "source": [
    "coda.enqueue('A')\n",
    "coda.enqueue('B')\n",
    "coda.enqueue('C')\n",
    "coda.enqueue('D')"
   ]
  },
  {
   "cell_type": "code",
   "execution_count": 42,
   "metadata": {},
   "outputs": [
    {
     "name": "stdout",
     "output_type": "stream",
     "text": [
      "A -> B -> C -> D -> Fine Lista\n"
     ]
    }
   ],
   "source": [
    "stampa_lista(coda.head)"
   ]
  },
  {
   "cell_type": "code",
   "execution_count": null,
   "metadata": {},
   "outputs": [],
   "source": []
  }
 ],
 "metadata": {
  "kernelspec": {
   "display_name": "Python 3 (ipykernel)",
   "language": "python",
   "name": "python3"
  },
  "language_info": {
   "codemirror_mode": {
    "name": "ipython",
    "version": 3
   },
   "file_extension": ".py",
   "mimetype": "text/x-python",
   "name": "python",
   "nbconvert_exporter": "python",
   "pygments_lexer": "ipython3",
   "version": "3.9.12"
  }
 },
 "nbformat": 4,
 "nbformat_minor": 2
}
